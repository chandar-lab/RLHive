{
  "nbformat": 4,
  "nbformat_minor": 0,
  "metadata": {
    "colab": {
      "provenance": [],
      "collapsed_sections": [
        "TiiOCUnwDlXB",
        "qy1F1g74qfo_",
        "eGZyL2zzGKEt"
      ]
    },
    "kernelspec": {
      "name": "python3",
      "display_name": "Python 3"
    },
    "language_info": {
      "name": "python"
    },
    "accelerator": "GPU"
  },
  "cells": [
    {
      "cell_type": "markdown",
      "source": [
        "# About the tutorial\n",
        "In this tutorial, we will explain how to register classes and objects into the RLHive framework."
      ],
      "metadata": {
        "id": "TiiOCUnwDlXB"
      }
    },
    {
      "cell_type": "markdown",
      "metadata": {
        "id": "qy1F1g74qfo_"
      },
      "source": [
        "# Introduction and Setup"
      ]
    },
    {
      "cell_type": "markdown",
      "source": [
        "### What is RLHive and how to install it"
      ],
      "metadata": {
        "id": "EJutnqZVjNTu"
      }
    },
    {
      "cell_type": "markdown",
      "metadata": {
        "id": "xi-qOSphrCH7"
      },
      "source": [
        "RLHive is a framework designed to facilitate research in reinforcement learning. It provides the components necessary to run a full RL experiment, for both single agent and multi agent environments. It is designed to be readable and easily extensible, to allow users to quickly run and experiment with their own ideas."
      ]
    },
    {
      "cell_type": "markdown",
      "metadata": {
        "id": "tW-I3bsasKj-"
      },
      "source": [
        "Installation - To install a specific branch from github using pip - first copy the **clone URL** of the package and then add **@ symbol** with the name of the specific branch of the package that you want to install from. Example to install from the dev branch use : \\\\\n",
        "`https://github.com/chandar-lab/RLHive.git@dev`"
      ]
    },
    {
      "cell_type": "code",
      "execution_count": null,
      "metadata": {
        "id": "JWmMKQBPFoO8"
      },
      "outputs": [],
      "source": [
        "## used for updating config.yaml files \n",
        "!pip install ruamel.yaml\n",
        "!pip install pyglet\n",
        "\n",
        "!pip install git+https://github.com/chandar-lab/RLHive.git@dev"
      ]
    },
    {
      "cell_type": "code",
      "source": [
        "!apt-get install x11-utils > /dev/null 2>&1 \n",
        "!pip install pyglet > /dev/null 2>&1 \n",
        "!apt-get install -y xvfb python-opengl > /dev/null 2>&1\n",
        "!pip install gym pyvirtualdisplay > /dev/null 2>&1"
      ],
      "metadata": {
        "id": "-MmK2M4L0q0-"
      },
      "execution_count": null,
      "outputs": []
    },
    {
      "cell_type": "code",
      "source": [
        "## Required imports\n",
        "\n",
        "import hive\n",
        "import torch\n",
        "from hive.agents.dqn import DQNAgent\n",
        "from hive.runners.utils import load_config\n",
        "from hive.runners.single_agent_loop import set_up_experiment\n",
        "from hive.utils.loggers import get_logger\n",
        "from ruamel import yaml\n",
        "import os.path\n",
        "import numpy as np\n",
        "import matplotlib.pyplot as plt\n",
        "from IPython import display as ipythondisplay\n",
        "from hive.utils.utils import Registrable\n",
        "import os\n",
        "import sys"
      ],
      "metadata": {
        "id": "M6R2hd6KnJy9"
      },
      "execution_count": null,
      "outputs": []
    },
    {
      "cell_type": "markdown",
      "source": [
        "### How to install environments\n",
        "\n",
        "RLHive currently supports the following environments:\n",
        "\n",
        "\n",
        "\n",
        "*   Gym classic control\n",
        "*   Atari\n",
        "* Minatar (simplified Atari)\n",
        "* Minigrid (single-agent grid world)\n",
        "* Marlgrid (multi-agent)\n",
        "* Pettingzoo (multi-agent)\n",
        "\n",
        "To install Gym, you could simply run `pip install gym==0.21.0`. You can also install dependencies necessary for the environments that RLHive comes with by running `pip install rlhive[<env_names>]` where `<env_names>` is a comma separated list made up of `atari`, `gym_minigrid`, and `pettingzoo`.\n",
        "\n",
        "Minatar and Marlgrid are also supported, but must be installed separately.\n",
        "\n",
        "* To install Minatar, run `pip install MinAtar@git+https://github.com/kenjyoung/MinAtar.git@8b39a18a60248ede15ce70142b557f3897c4e1eb`\n",
        "* To install Marlgrid, run `pip install marlgrid@https://github.com/kandouss/marlgrid/archive/refs/heads/master.zip`"
      ],
      "metadata": {
        "id": "eGZyL2zzGKEt"
      }
    },
    {
      "cell_type": "code",
      "source": [
        "!pip install gym==0.21.0\n",
        "!pip install rlhive[atari]"
      ],
      "metadata": {
        "colab": {
          "base_uri": "https://localhost:8080/",
          "height": 1000
        },
        "id": "9-L5w2ubGJVC",
        "outputId": "18d9c2b1-d066-4e5b-ba83-165b489cef8c"
      },
      "execution_count": null,
      "outputs": [
        {
          "output_type": "stream",
          "name": "stdout",
          "text": [
            "Looking in indexes: https://pypi.org/simple, https://us-python.pkg.dev/colab-wheels/public/simple/\n",
            "Collecting gym==0.21.0\n",
            "  Downloading gym-0.21.0.tar.gz (1.5 MB)\n",
            "\u001b[K     |████████████████████████████████| 1.5 MB 39.3 MB/s \n",
            "\u001b[?25hRequirement already satisfied: numpy>=1.18.0 in /usr/local/lib/python3.7/dist-packages (from gym==0.21.0) (1.21.6)\n",
            "Requirement already satisfied: cloudpickle>=1.2.0 in /usr/local/lib/python3.7/dist-packages (from gym==0.21.0) (1.5.0)\n",
            "Requirement already satisfied: importlib_metadata>=4.8.1 in /usr/local/lib/python3.7/dist-packages (from gym==0.21.0) (5.0.0)\n",
            "Requirement already satisfied: zipp>=0.5 in /usr/local/lib/python3.7/dist-packages (from importlib_metadata>=4.8.1->gym==0.21.0) (3.8.1)\n",
            "Requirement already satisfied: typing-extensions>=3.6.4 in /usr/local/lib/python3.7/dist-packages (from importlib_metadata>=4.8.1->gym==0.21.0) (4.1.1)\n",
            "Building wheels for collected packages: gym\n",
            "  Building wheel for gym (setup.py) ... \u001b[?25l\u001b[?25hdone\n",
            "  Created wheel for gym: filename=gym-0.21.0-py3-none-any.whl size=1616826 sha256=8a57871d39718ad4c7be8ddad66349fd6632a48e0ce3515696ad522e82113ef0\n",
            "  Stored in directory: /root/.cache/pip/wheels/76/ee/9c/36bfe3e079df99acf5ae57f4e3464ff2771b34447d6d2f2148\n",
            "Successfully built gym\n",
            "Installing collected packages: gym\n",
            "  Attempting uninstall: gym\n",
            "    Found existing installation: gym 0.25.2\n",
            "    Uninstalling gym-0.25.2:\n",
            "      Successfully uninstalled gym-0.25.2\n",
            "Successfully installed gym-0.21.0\n"
          ]
        },
        {
          "output_type": "display_data",
          "data": {
            "application/vnd.colab-display-data+json": {
              "pip_warning": {
                "packages": [
                  "gym"
                ]
              }
            }
          },
          "metadata": {}
        },
        {
          "output_type": "stream",
          "name": "stdout",
          "text": [
            "Looking in indexes: https://pypi.org/simple, https://us-python.pkg.dev/colab-wheels/public/simple/\n",
            "Requirement already satisfied: rlhive[atari] in /usr/local/lib/python3.7/dist-packages (1.0.1)\n",
            "Requirement already satisfied: PyYAML~=5.4 in /usr/local/lib/python3.7/dist-packages (from rlhive[atari]) (5.4.1)\n",
            "Requirement already satisfied: wandb>=0.12.18 in /usr/local/lib/python3.7/dist-packages (from rlhive[atari]) (0.13.4)\n",
            "Requirement already satisfied: torch>=1.8 in /usr/local/lib/python3.7/dist-packages (from rlhive[atari]) (1.12.1+cu113)\n",
            "Requirement already satisfied: matplotlib~=3.0 in /usr/local/lib/python3.7/dist-packages (from rlhive[atari]) (3.2.2)\n",
            "Requirement already satisfied: numpy~=1.18 in /usr/local/lib/python3.7/dist-packages (from rlhive[atari]) (1.21.6)\n",
            "Requirement already satisfied: gym~=0.21 in /usr/local/lib/python3.7/dist-packages (from rlhive[atari]) (0.21.0)\n",
            "Requirement already satisfied: opencv-python~=4.0 in /usr/local/lib/python3.7/dist-packages (from rlhive[atari]) (4.6.0.66)\n",
            "Requirement already satisfied: cloudpickle>=1.2.0 in /usr/local/lib/python3.7/dist-packages (from gym~=0.21->rlhive[atari]) (1.5.0)\n",
            "Requirement already satisfied: importlib-metadata>=4.8.1 in /usr/local/lib/python3.7/dist-packages (from gym~=0.21->rlhive[atari]) (5.0.0)\n",
            "Collecting ale-py~=0.7.1\n",
            "  Downloading ale_py-0.7.5-cp37-cp37m-manylinux_2_17_x86_64.manylinux2014_x86_64.whl (1.6 MB)\n",
            "\u001b[K     |████████████████████████████████| 1.6 MB 19.0 MB/s \n",
            "\u001b[?25hCollecting autorom[accept-rom-license]~=0.4.2\n",
            "  Downloading AutoROM-0.4.2-py3-none-any.whl (16 kB)\n",
            "Requirement already satisfied: importlib-resources in /usr/local/lib/python3.7/dist-packages (from ale-py~=0.7.1->gym~=0.21->rlhive[atari]) (5.9.0)\n",
            "Requirement already satisfied: click in /usr/local/lib/python3.7/dist-packages (from autorom[accept-rom-license]~=0.4.2->gym~=0.21->rlhive[atari]) (7.1.2)\n",
            "Requirement already satisfied: tqdm in /usr/local/lib/python3.7/dist-packages (from autorom[accept-rom-license]~=0.4.2->gym~=0.21->rlhive[atari]) (4.64.1)\n",
            "Requirement already satisfied: requests in /usr/local/lib/python3.7/dist-packages (from autorom[accept-rom-license]~=0.4.2->gym~=0.21->rlhive[atari]) (2.23.0)\n",
            "Collecting AutoROM.accept-rom-license\n",
            "  Downloading AutoROM.accept-rom-license-0.4.2.tar.gz (9.8 kB)\n",
            "  Installing build dependencies ... \u001b[?25l\u001b[?25hdone\n",
            "  Getting requirements to build wheel ... \u001b[?25l\u001b[?25hdone\n",
            "    Preparing wheel metadata ... \u001b[?25l\u001b[?25hdone\n",
            "Requirement already satisfied: zipp>=0.5 in /usr/local/lib/python3.7/dist-packages (from importlib-metadata>=4.8.1->gym~=0.21->rlhive[atari]) (3.8.1)\n",
            "Requirement already satisfied: typing-extensions>=3.6.4 in /usr/local/lib/python3.7/dist-packages (from importlib-metadata>=4.8.1->gym~=0.21->rlhive[atari]) (4.1.1)\n",
            "Requirement already satisfied: cycler>=0.10 in /usr/local/lib/python3.7/dist-packages (from matplotlib~=3.0->rlhive[atari]) (0.11.0)\n",
            "Requirement already satisfied: pyparsing!=2.0.4,!=2.1.2,!=2.1.6,>=2.0.1 in /usr/local/lib/python3.7/dist-packages (from matplotlib~=3.0->rlhive[atari]) (3.0.9)\n",
            "Requirement already satisfied: kiwisolver>=1.0.1 in /usr/local/lib/python3.7/dist-packages (from matplotlib~=3.0->rlhive[atari]) (1.4.4)\n",
            "Requirement already satisfied: python-dateutil>=2.1 in /usr/local/lib/python3.7/dist-packages (from matplotlib~=3.0->rlhive[atari]) (2.8.2)\n",
            "Requirement already satisfied: six>=1.5 in /usr/local/lib/python3.7/dist-packages (from python-dateutil>=2.1->matplotlib~=3.0->rlhive[atari]) (1.15.0)\n",
            "Requirement already satisfied: shortuuid>=0.5.0 in /usr/local/lib/python3.7/dist-packages (from wandb>=0.12.18->rlhive[atari]) (1.0.9)\n",
            "Requirement already satisfied: GitPython>=1.0.0 in /usr/local/lib/python3.7/dist-packages (from wandb>=0.12.18->rlhive[atari]) (3.1.28)\n",
            "Requirement already satisfied: setproctitle in /usr/local/lib/python3.7/dist-packages (from wandb>=0.12.18->rlhive[atari]) (1.3.2)\n",
            "Requirement already satisfied: promise<3,>=2.0 in /usr/local/lib/python3.7/dist-packages (from wandb>=0.12.18->rlhive[atari]) (2.3)\n",
            "Requirement already satisfied: setuptools in /usr/local/lib/python3.7/dist-packages (from wandb>=0.12.18->rlhive[atari]) (57.4.0)\n",
            "Requirement already satisfied: protobuf!=4.0.*,!=4.21.0,<5,>=3.12.0 in /usr/local/lib/python3.7/dist-packages (from wandb>=0.12.18->rlhive[atari]) (3.17.3)\n",
            "Requirement already satisfied: pathtools in /usr/local/lib/python3.7/dist-packages (from wandb>=0.12.18->rlhive[atari]) (0.1.2)\n",
            "Requirement already satisfied: docker-pycreds>=0.4.0 in /usr/local/lib/python3.7/dist-packages (from wandb>=0.12.18->rlhive[atari]) (0.4.0)\n",
            "Requirement already satisfied: psutil>=5.0.0 in /usr/local/lib/python3.7/dist-packages (from wandb>=0.12.18->rlhive[atari]) (5.4.8)\n",
            "Requirement already satisfied: sentry-sdk>=1.0.0 in /usr/local/lib/python3.7/dist-packages (from wandb>=0.12.18->rlhive[atari]) (1.9.0)\n",
            "Requirement already satisfied: gitdb<5,>=4.0.1 in /usr/local/lib/python3.7/dist-packages (from GitPython>=1.0.0->wandb>=0.12.18->rlhive[atari]) (4.0.9)\n",
            "Requirement already satisfied: smmap<6,>=3.0.1 in /usr/local/lib/python3.7/dist-packages (from gitdb<5,>=4.0.1->GitPython>=1.0.0->wandb>=0.12.18->rlhive[atari]) (5.0.0)\n",
            "Requirement already satisfied: certifi>=2017.4.17 in /usr/local/lib/python3.7/dist-packages (from requests->autorom[accept-rom-license]~=0.4.2->gym~=0.21->rlhive[atari]) (2022.9.24)\n",
            "Requirement already satisfied: chardet<4,>=3.0.2 in /usr/local/lib/python3.7/dist-packages (from requests->autorom[accept-rom-license]~=0.4.2->gym~=0.21->rlhive[atari]) (3.0.4)\n",
            "Requirement already satisfied: urllib3!=1.25.0,!=1.25.1,<1.26,>=1.21.1 in /usr/local/lib/python3.7/dist-packages (from requests->autorom[accept-rom-license]~=0.4.2->gym~=0.21->rlhive[atari]) (1.24.3)\n",
            "Requirement already satisfied: idna<3,>=2.5 in /usr/local/lib/python3.7/dist-packages (from requests->autorom[accept-rom-license]~=0.4.2->gym~=0.21->rlhive[atari]) (2.10)\n",
            "Building wheels for collected packages: AutoROM.accept-rom-license\n",
            "  Building wheel for AutoROM.accept-rom-license (PEP 517) ... \u001b[?25l\u001b[?25hdone\n",
            "  Created wheel for AutoROM.accept-rom-license: filename=AutoROM.accept_rom_license-0.4.2-py3-none-any.whl size=441027 sha256=e321c6096d04cc341f99dc6c44b7b33ed606b3405d818028784b16ef7d40993b\n",
            "  Stored in directory: /root/.cache/pip/wheels/87/67/2e/6147e7912fe37f5408b80d07527dab807c1d25f5c403a9538a\n",
            "Successfully built AutoROM.accept-rom-license\n",
            "Installing collected packages: AutoROM.accept-rom-license, autorom, ale-py\n",
            "Successfully installed AutoROM.accept-rom-license-0.4.2 ale-py-0.7.5 autorom-0.4.2\n"
          ]
        },
        {
          "output_type": "display_data",
          "data": {
            "application/vnd.colab-display-data+json": {
              "pip_warning": {
                "packages": [
                  "gym"
                ]
              }
            }
          },
          "metadata": {}
        }
      ]
    },
    {
      "cell_type": "markdown",
      "source": [
        "# Introduction to Hive Registry"
      ],
      "metadata": {
        "id": "1tWlWLmz-oIS"
      }
    },
    {
      "cell_type": "markdown",
      "source": [
        "<!-- ### `hive.utils.registry` -->\n",
        "The registry module `hive.utils.registry` is used to register classes (corresponding to the agent, environment, logger, or runner) in the RLHive Registry. In other words, it allows you to register different types of `Registrable` classes and objects, and generates constructors for those classes in the form of `get_{type_name}`. These constructors allow you to construct objects from dictionary configs. These configs should have two fields: \n",
        "\n",
        "\n",
        "1. `name` - name used when registering a class in the registry\n",
        "2. `**kwargs` - keyword arguments that will be passed to the constructor of the object\n",
        "\n",
        "\n",
        "These constructors can also build objects recursively, i.e. if a config contains the config for another `Registrable` object, this will be automatically created before being passed to the constructor of the original object. These constructors also allow you to directly specify/override arguments for object constructors directly from the command line. These parameters are specified in dot `.` notation. They also are able to handle lists and dictionaries of Registrable objects.\n",
        "\n",
        "For example, let’s consider the following scenario: Your `agent` class has an argument `arg1` which is annotated to be `List[Class1]` ( where `Class1` is `Registrable`), and the `Class1` constructor takes an argument `arg2`. In the passed YAML config, there are two different `Class1` object configs listed. The constructor will check to see if both `agent.arg1.0.arg2` and `agent.arg1.1.arg2` have been passed.\n",
        "\n",
        "The parameters passed in the command line will be parsed according to the type annotation of the corresponding low level constructor. If it is not one of `int`, `float`, `str`, or `bool`, it simply loads the string into python using a YAML loader.\n",
        "\n",
        "Each constructor returns the object, as well a dictionary config with all the parameters used to create the object and any `Registrable` objects created in the process of creating this object."
      ],
      "metadata": {
        "id": "Cxo_vGT4-vJW"
      }
    },
    {
      "cell_type": "markdown",
      "source": [
        "### Registering an Environment\n",
        "\n",
        "Consider registering a custom environment class named `Grid` (which inherits `BaseEnv`) in the RLHive registry. "
      ],
      "metadata": {
        "id": "YrlRz676D_Dm"
      }
    },
    {
      "cell_type": "code",
      "source": [
        "from hive.envs.base import BaseEnv\n",
        "class Grid(BaseEnv):\n",
        "    def __init__(self, env_name = 'Grid', **kwargs):\n",
        "        pass\n",
        "    def reset(self):\n",
        "        pass\n",
        "    def step(self):\n",
        "        pass\n",
        "    def render(self):\n",
        "        pass\n",
        "    def close(self):\n",
        "        pass\n",
        "    def save(self):\n",
        "        pass"
      ],
      "metadata": {
        "id": "PbefnmFLJprJ"
      },
      "execution_count": null,
      "outputs": []
    },
    {
      "cell_type": "code",
      "source": [
        "from hive.utils.registry import registry\n",
        "registry.register(name = 'Grid', \n",
        "                  constructor = Grid, \n",
        "                  type = BaseEnv)"
      ],
      "metadata": {
        "id": "J3DGzZgP-u28"
      },
      "execution_count": null,
      "outputs": []
    },
    {
      "cell_type": "markdown",
      "source": [
        "More than one environment can be registered at once using the `register_all` method. Consider registering three environments, `Gridv1`, `Gridv2`, and `Gridv3` in the RLHive registry."
      ],
      "metadata": {
        "id": "sOy_VsfPLAIp"
      }
    },
    {
      "cell_type": "code",
      "source": [
        "registry.register_all(\n",
        "    BaseEnv,\n",
        "    {\n",
        "        \"Gridv1\": Gridv1,\n",
        "        \"Gridv2\": Gridv2,\n",
        "        \"Gridv3\": Gridv3,\n",
        "    },\n",
        ")"
      ],
      "metadata": {
        "id": "Ud2IRJzUK_wI"
      },
      "execution_count": null,
      "outputs": []
    },
    {
      "cell_type": "markdown",
      "source": [
        "### Registering an Agent\n",
        "\n",
        "Consider registering a custom environment class named `LearningAgent` (which inherits `Agent` class) in the RLHive registry. "
      ],
      "metadata": {
        "id": "LPEtPLw2MrD_"
      }
    },
    {
      "cell_type": "code",
      "source": [
        "from hive.agents.agent import Agent\n",
        "\n",
        "class LearningAgent(Agent):\n",
        "    def __init__(self):\n",
        "        pass\n",
        "    def act(self):\n",
        "        pass"
      ],
      "metadata": {
        "id": "I9TrG7DFMq4E"
      },
      "execution_count": null,
      "outputs": []
    },
    {
      "cell_type": "code",
      "source": [
        "from hive.utils.registry import registry\n",
        "registry.register(name = 'LearningAgent', \n",
        "                  constructor = LearningAgent, \n",
        "                  type = Agent)"
      ],
      "metadata": {
        "id": "slMh_1bR-s1a"
      },
      "execution_count": null,
      "outputs": []
    },
    {
      "cell_type": "markdown",
      "source": [
        "More than one agent can be registered at once using the `register_all` method. Consider registering three environments, `LearningAgentV1`, `LearningAgentV2`, and `LearningAgentV3` in the RLHive registry."
      ],
      "metadata": {
        "id": "kdcN7NZlT6dD"
      }
    },
    {
      "cell_type": "code",
      "source": [
        "registry.register_all(\n",
        "    Agent,\n",
        "    {\n",
        "        \"LearningAgentV1\": LearningAgentV1,\n",
        "        \"LearningAgentV2\": LearningAgentV2,\n",
        "        \"LearningAgentV3\": LearningAgentV3,\n",
        "    },\n",
        ")"
      ],
      "metadata": {
        "id": "WUDq9CoJMYXf"
      },
      "execution_count": null,
      "outputs": []
    },
    {
      "cell_type": "markdown",
      "source": [
        "### Registering a Logger"
      ],
      "metadata": {
        "id": "Ku9Jz5EKbmRE"
      }
    },
    {
      "cell_type": "markdown",
      "source": [
        "Consider registering a custom environment class named `CustomLogger` (which inherits `Logger` class) in the RLHive registry. "
      ],
      "metadata": {
        "id": "ureIVBKcbtZJ"
      }
    },
    {
      "cell_type": "code",
      "source": [
        "from hive.utils.loggers import Logger\n",
        "\n",
        "class CustomLogger(Logger):\n",
        "    def __init__(self):\n",
        "        pass\n",
        "    def update_step(self, timescale):\n",
        "        pass"
      ],
      "metadata": {
        "id": "70ys0SvobnkD"
      },
      "execution_count": null,
      "outputs": []
    },
    {
      "cell_type": "code",
      "source": [
        "from hive.utils.registry import registry\n",
        "registry.register(name = 'CustomLogger', \n",
        "                  constructor = CustomLogger, \n",
        "                  type = Logger)"
      ],
      "metadata": {
        "id": "otDqYlUWcDkn"
      },
      "execution_count": null,
      "outputs": []
    },
    {
      "cell_type": "markdown",
      "source": [
        "More than one logger can be registered at once using the `register_all` method. Consider registering three environments, `CustomLoggerV1`, `CustomLoggerV2`, and `CustomLoggerV3` in the RLHive registry."
      ],
      "metadata": {
        "id": "A8ebt6CvdYLX"
      }
    },
    {
      "cell_type": "code",
      "source": [
        "registry.register_all(\n",
        "    Agent,\n",
        "    {\n",
        "        \"CustomLoggerV1\": CustomLoggerV1,\n",
        "        \"CustomLoggerV2\": CustomLoggerV2,\n",
        "        \"CustomLoggerV3\": CustomLoggerV3,\n",
        "    },\n",
        ")"
      ],
      "metadata": {
        "id": "PZZbEC6QdX-o"
      },
      "execution_count": null,
      "outputs": []
    },
    {
      "cell_type": "markdown",
      "source": [
        "### Registering with a Custom Data Type"
      ],
      "metadata": {
        "id": "S5STl9CCYfOy"
      }
    },
    {
      "cell_type": "markdown",
      "source": [
        "#### Registering Initialization Function with Custom Data Type. \n",
        "\n",
        "In this example, a custom initialization function `variance_scaling_` is defined below.\n",
        "\n",
        "\n",
        "<!-- [Optimizer function, initialization function\n",
        "wrap funciton/class https://github.com/chandar-lab/RLHive/blob/5ec70776b25c81df1236b8879e6bf7903352d390/hive/agents/qnets/utils.py#L114 ] -->"
      ],
      "metadata": {
        "id": "XL-EVHj3cweG"
      }
    },
    {
      "cell_type": "code",
      "source": [
        "import math\n",
        "def variance_scaling_(tensor, scale=1.0, mode=\"fan_in\", distribution=\"uniform\"):\n",
        "    \"\"\"Implements the :py:class:`tf.keras.initializers.VarianceScaling`\n",
        "    initializer in PyTorch.\n",
        "    Args:\n",
        "        tensor (torch.Tensor): Tensor to initialize.\n",
        "        scale (float): Scaling factor (must be positive).\n",
        "        mode (str): Must be one of `\"fan_in\"`, `\"fan_out\"`, and `\"fan_avg\"`.\n",
        "        distribution: Random distribution to use, must be one of\n",
        "            \"truncated_normal\", \"untruncated_normal\" and \"uniform\".\n",
        "    Returns:\n",
        "        Initialized tensor.\n",
        "    \"\"\"\n",
        "    fan = calculate_correct_fan(tensor, mode)\n",
        "    scale /= fan\n",
        "    if distribution == \"truncated_normal\":\n",
        "        stddev = math.sqrt(scale) / 0.87962566103423978\n",
        "        return torch.nn.init.trunc_normal_(tensor, 0.0, stddev, -2 * stddev, 2 * stddev)\n",
        "    elif distribution == \"untruncated_normal\":\n",
        "        stddev = math.sqrt(scale)\n",
        "        return torch.nn.init.normal_(tensor, 0.0, stddev)\n",
        "    elif distribution == \"uniform\":\n",
        "        limit = math.sqrt(3.0 * scale)\n",
        "        return torch.nn.init.uniform_(tensor, -limit, limit)\n",
        "    else:\n",
        "        raise ValueError(f\"Distribution {distribution} not supported\")\n",
        "\n",
        "def calculate_correct_fan(tensor, mode):\n",
        "    \"\"\"Calculate fan of tensor.\n",
        "    Args:\n",
        "        tensor (torch.Tensor): Tensor to calculate fan of.\n",
        "        mode (str): Which type of fan to compute. Must be one of `\"fan_in\"`,\n",
        "            `\"fan_out\"`, and `\"fan_avg\"`.\n",
        "    Returns:\n",
        "        Fan of the tensor based on the mode.\n",
        "    \"\"\"\n",
        "    fan_in, fan_out = torch.nn.init._calculate_fan_in_and_fan_out(tensor)\n",
        "    if mode == \"fan_in\":\n",
        "        return fan_in\n",
        "    elif mode == \"fan_out\":\n",
        "        return fan_out\n",
        "    elif mode == \"fan_avg\":\n",
        "        return (fan_in + fan_out) / 2\n",
        "    else:\n",
        "        raise ValueError(f\"Fan mode {mode} not supported\")"
      ],
      "metadata": {
        "id": "1ECMXZlJykXY"
      },
      "execution_count": null,
      "outputs": []
    },
    {
      "cell_type": "markdown",
      "source": [
        "The cell below demonstrates how to register `variance_scaling_` (and other standard initialization functions) with a custom data type `InitializationFn`."
      ],
      "metadata": {
        "id": "u_ek1YFXRDqL"
      }
    },
    {
      "cell_type": "code",
      "source": [
        "class InitializationFn(Registrable):\n",
        "    \"\"\"A wrapper for callables that produce initialization functions.\n",
        "    These wrapped callables can be partially initialized through configuration\n",
        "    files or command line arguments.\n",
        "    \"\"\"\n",
        "\n",
        "    @classmethod\n",
        "    def type_name(cls):\n",
        "        \"\"\"\n",
        "        Returns:\n",
        "            \"init_fn\"\n",
        "        \"\"\"\n",
        "        return \"init_fn\"\n",
        "\n",
        "\n",
        "registry.register_all(\n",
        "    InitializationFn,\n",
        "    {\n",
        "        \"uniform\": torch.nn.init.uniform_,\n",
        "        \"normal\": torch.nn.init.normal_,\n",
        "        \"constant\": torch.nn.init.constant_,\n",
        "        \"ones\": torch.nn.init.ones_,\n",
        "        \"zeros\": torch.nn.init.zeros_,\n",
        "        \"eye\": torch.nn.init.eye_,\n",
        "        \"dirac\": torch.nn.init.dirac_,\n",
        "        \"xavier_uniform\": torch.nn.init.xavier_uniform_,\n",
        "        \"xavier_normal\": torch.nn.init.xavier_normal_,\n",
        "        \"kaiming_uniform\": torch.nn.init.kaiming_uniform_,\n",
        "        \"kaiming_normal\": torch.nn.init.kaiming_normal_,\n",
        "        \"orthogonal\": torch.nn.init.orthogonal_,\n",
        "        \"sparse\": torch.nn.init.sparse_,\n",
        "        \"variance_scaling\": variance_scaling_,\n",
        "    },\n",
        ")"
      ],
      "metadata": {
        "id": "5IXvPxacc0VD"
      },
      "execution_count": null,
      "outputs": []
    },
    {
      "cell_type": "code",
      "source": [
        "get_init_fn = getattr(registry, f\"get_{InitializationFn.type_name()}\")"
      ],
      "metadata": {
        "id": "hC9TJ9vRl7Gj"
      },
      "execution_count": null,
      "outputs": []
    },
    {
      "cell_type": "markdown",
      "source": [
        "#### Registering Optimizer Function with Custom Data Type\n",
        "\n",
        "Similar to the previous example, we can also register optimizer functions with a custom data type. \n"
      ],
      "metadata": {
        "id": "3nlBl_bvu7ec"
      }
    },
    {
      "cell_type": "code",
      "source": [
        "class OptimizationFn(Registrable):\n",
        "    \"\"\"A wrapper for callables for optimization functions.\n",
        "    These wrapped callables can be partially initialized through configuration\n",
        "    files or command line arguments.\n",
        "    \"\"\"\n",
        "\n",
        "    @classmethod\n",
        "    def type_name(cls):\n",
        "        \"\"\"\n",
        "        Returns:\n",
        "            \"opt_fn\"\n",
        "        \"\"\"\n",
        "        return \"opt_fn\"\n",
        "\n",
        "\n",
        "registry.register_all(\n",
        "    OptimizationFn,\n",
        "    {\n",
        "        \"Adam\": torch.optim.Adam,\n",
        "        \"SGD\" : torch.optim.SGD,\n",
        "        \"RMSprop\" : torch.optim.RMSprop,\n",
        "        \"Adagrad\" : torch.optim.Adagrad\n",
        "    },\n",
        ")"
      ],
      "metadata": {
        "id": "zdaPz7qpu-CK"
      },
      "execution_count": null,
      "outputs": []
    },
    {
      "cell_type": "code",
      "source": [
        "get_optimizer_fn = getattr(registry, f\"get_{OptimizationFn.type_name()}\")"
      ],
      "metadata": {
        "id": "uv2XsFMsxok_"
      },
      "execution_count": null,
      "outputs": []
    }
  ]
}
